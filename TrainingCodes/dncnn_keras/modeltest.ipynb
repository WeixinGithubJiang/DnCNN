{
 "cells": [
  {
   "cell_type": "code",
   "execution_count": 1,
   "metadata": {},
   "outputs": [
    {
     "name": "stderr",
     "output_type": "stream",
     "text": [
      "Using TensorFlow backend.\n"
     ]
    }
   ],
   "source": [
    "import argparse\n",
    "import re\n",
    "import os, glob, datetime\n",
    "import numpy as np\n",
    "from keras.layers import  Input,Conv2D,BatchNormalization,Activation,Subtract\n",
    "from keras.models import Model, load_model\n",
    "from keras.callbacks import CSVLogger, ModelCheckpoint, LearningRateScheduler\n",
    "from keras.optimizers import Adam\n",
    "import data_generator as dg\n",
    "import keras.backend as K"
   ]
  },
  {
   "cell_type": "code",
   "execution_count": 2,
   "metadata": {},
   "outputs": [],
   "source": [
    "import sys\n",
    "sys.path.append(\"./Func\")\n",
    "from editing_network import NetworkEdit_base"
   ]
  },
  {
   "cell_type": "code",
   "execution_count": 3,
   "metadata": {},
   "outputs": [],
   "source": [
    "def DnCNN(depth,filters=64,image_channels=1, use_bnorm=True):\n",
    "    layer_count = 0\n",
    "    inpt = Input(shape=(None,None,image_channels),name = 'input'+str(layer_count))\n",
    "    # 1st layer, Conv+relu\n",
    "    layer_count += 1\n",
    "    x = Conv2D(filters=filters, kernel_size=(3,3), strides=(1,1),kernel_initializer='Orthogonal', padding='same',name = 'conv'+str(layer_count))(inpt)\n",
    "    layer_count += 1\n",
    "    x = Activation('relu',name = 'relu'+str(layer_count))(x)\n",
    "    # depth-2 layers, Conv+BN+relu\n",
    "    for i in range(depth-2):\n",
    "        layer_count += 1\n",
    "        x = Conv2D(filters=filters, kernel_size=(3,3), strides=(1,1),kernel_initializer='Orthogonal', padding='same',use_bias = False,name = 'conv'+str(layer_count))(x)\n",
    "        if use_bnorm:\n",
    "            layer_count += 1\n",
    "            #x = BatchNormalization(axis=3, momentum=0.1,epsilon=0.0001, name = 'bn'+str(layer_count))(x) \n",
    "        x = BatchNormalization(axis=3, momentum=0.0,epsilon=0.0001, name = 'bn'+str(layer_count))(x)\n",
    "        layer_count += 1\n",
    "        x = Activation('relu',name = 'relu'+str(layer_count))(x)  \n",
    "    # last layer, Conv\n",
    "    layer_count += 1\n",
    "    x = Conv2D(filters=image_channels, kernel_size=(3,3), strides=(1,1), kernel_initializer='Orthogonal',padding='same',use_bias = False,name = 'conv'+str(layer_count))(x)\n",
    "    layer_count += 1\n",
    "    x = Subtract(name = 'subtract' + str(layer_count))([inpt, x])   # input - noise\n",
    "    model = Model(inputs=inpt, outputs=x)\n",
    "    \n",
    "    return model"
   ]
  },
  {
   "cell_type": "code",
   "execution_count": 4,
   "metadata": {},
   "outputs": [],
   "source": [
    "def lr_schedule(epoch):\n",
    "    initial_lr = 1e-3\n",
    "    if epoch<=30:\n",
    "        lr = initial_lr\n",
    "    elif epoch<=60:\n",
    "        lr = initial_lr/10\n",
    "    elif epoch<=80:\n",
    "        lr = initial_lr/20 \n",
    "    else:\n",
    "        lr = initial_lr/20 \n",
    "    print('current learning rate is %2.8f' %lr)\n",
    "    return lr"
   ]
  },
  {
   "cell_type": "code",
   "execution_count": 5,
   "metadata": {},
   "outputs": [],
   "source": [
    "def train_datagen(epoch_iter=2000,epoch_num=5,batch_size=128,data_dir=\"/data/BSDS300/images/train/\"):\n",
    "    while(True):\n",
    "        n_count = 0\n",
    "        if n_count == 0:\n",
    "            #print(n_count)\n",
    "            xs = dg.datagenerator(data_dir)\n",
    "            assert len(xs)%batch_size ==0, \\\n",
    "            log('make sure the last iteration has a full batchsize, this is important if you use batch normalization!')\n",
    "            xs = xs.astype('float32')/255.0\n",
    "            indices = list(range(xs.shape[0]))\n",
    "            n_count = 1\n",
    "        for _ in range(epoch_num):\n",
    "            np.random.shuffle(indices)    # shuffle\n",
    "            for i in range(0, len(indices), batch_size):\n",
    "                batch_x = xs[indices[i:i+batch_size]]\n",
    "                noise =  np.random.normal(0, np.random.rand()*50/255.0, batch_x.shape)    # noise\n",
    "                #noise =  K.random_normal(ge_batch_y.shape, mean=0, stddev=args.sigma/255.0)\n",
    "                batch_y = batch_x + noise \n",
    "                yield batch_y, batch_x"
   ]
  },
  {
   "cell_type": "code",
   "execution_count": 6,
   "metadata": {},
   "outputs": [],
   "source": [
    "# data_dir=\"/data/BSDS300/images/train/\"\n",
    "# xg = dg.datagenerator(data_dir)"
   ]
  },
  {
   "cell_type": "code",
   "execution_count": 7,
   "metadata": {},
   "outputs": [],
   "source": [
    "# print(xg.shape)"
   ]
  },
  {
   "cell_type": "code",
   "execution_count": 8,
   "metadata": {},
   "outputs": [],
   "source": [
    "def sum_squared_error(y_true, y_pred):\n",
    "    #return K.mean(K.square(y_pred - y_true), axis=-1)\n",
    "    #return K.sum(K.square(y_pred - y_true), axis=-1)/2\n",
    "    return K.sum(K.square(y_pred - y_true))/2"
   ]
  },
  {
   "cell_type": "code",
   "execution_count": 9,
   "metadata": {},
   "outputs": [
    {
     "name": "stdout",
     "output_type": "stream",
     "text": [
      "__________________________________________________________________________________________________\n",
      "Layer (type)                    Output Shape         Param #     Connected to                     \n",
      "==================================================================================================\n",
      "input0 (InputLayer)             (None, None, None, 1 0                                            \n",
      "__________________________________________________________________________________________________\n",
      "conv1 (Conv2D)                  (None, None, None, 6 640         input0[0][0]                     \n",
      "__________________________________________________________________________________________________\n",
      "relu2 (Activation)              (None, None, None, 6 0           conv1[0][0]                      \n",
      "__________________________________________________________________________________________________\n",
      "conv3 (Conv2D)                  (None, None, None, 6 36864       relu2[0][0]                      \n",
      "__________________________________________________________________________________________________\n",
      "bn4 (BatchNormalization)        (None, None, None, 6 256         conv3[0][0]                      \n",
      "__________________________________________________________________________________________________\n",
      "relu5 (Activation)              (None, None, None, 6 0           bn4[0][0]                        \n",
      "__________________________________________________________________________________________________\n",
      "conv6 (Conv2D)                  (None, None, None, 6 36864       relu5[0][0]                      \n",
      "__________________________________________________________________________________________________\n",
      "bn7 (BatchNormalization)        (None, None, None, 6 256         conv6[0][0]                      \n",
      "__________________________________________________________________________________________________\n",
      "relu8 (Activation)              (None, None, None, 6 0           bn7[0][0]                        \n",
      "__________________________________________________________________________________________________\n",
      "conv9 (Conv2D)                  (None, None, None, 6 36864       relu8[0][0]                      \n",
      "__________________________________________________________________________________________________\n",
      "bn10 (BatchNormalization)       (None, None, None, 6 256         conv9[0][0]                      \n",
      "__________________________________________________________________________________________________\n",
      "relu11 (Activation)             (None, None, None, 6 0           bn10[0][0]                       \n",
      "__________________________________________________________________________________________________\n",
      "conv12 (Conv2D)                 (None, None, None, 6 36864       relu11[0][0]                     \n",
      "__________________________________________________________________________________________________\n",
      "bn13 (BatchNormalization)       (None, None, None, 6 256         conv12[0][0]                     \n",
      "__________________________________________________________________________________________________\n",
      "relu14 (Activation)             (None, None, None, 6 0           bn13[0][0]                       \n",
      "__________________________________________________________________________________________________\n",
      "conv15 (Conv2D)                 (None, None, None, 6 36864       relu14[0][0]                     \n",
      "__________________________________________________________________________________________________\n",
      "bn16 (BatchNormalization)       (None, None, None, 6 256         conv15[0][0]                     \n",
      "__________________________________________________________________________________________________\n",
      "relu17 (Activation)             (None, None, None, 6 0           bn16[0][0]                       \n",
      "__________________________________________________________________________________________________\n",
      "conv18 (Conv2D)                 (None, None, None, 6 36864       relu17[0][0]                     \n",
      "__________________________________________________________________________________________________\n",
      "bn19 (BatchNormalization)       (None, None, None, 6 256         conv18[0][0]                     \n",
      "__________________________________________________________________________________________________\n",
      "relu20 (Activation)             (None, None, None, 6 0           bn19[0][0]                       \n",
      "__________________________________________________________________________________________________\n",
      "conv21 (Conv2D)                 (None, None, None, 6 36864       relu20[0][0]                     \n",
      "__________________________________________________________________________________________________\n",
      "bn22 (BatchNormalization)       (None, None, None, 6 256         conv21[0][0]                     \n",
      "__________________________________________________________________________________________________\n",
      "relu23 (Activation)             (None, None, None, 6 0           bn22[0][0]                       \n",
      "__________________________________________________________________________________________________\n",
      "conv24 (Conv2D)                 (None, None, None, 6 36864       relu23[0][0]                     \n",
      "__________________________________________________________________________________________________\n",
      "bn25 (BatchNormalization)       (None, None, None, 6 256         conv24[0][0]                     \n",
      "__________________________________________________________________________________________________\n",
      "relu26 (Activation)             (None, None, None, 6 0           bn25[0][0]                       \n",
      "__________________________________________________________________________________________________\n",
      "conv27 (Conv2D)                 (None, None, None, 6 36864       relu26[0][0]                     \n",
      "__________________________________________________________________________________________________\n",
      "bn28 (BatchNormalization)       (None, None, None, 6 256         conv27[0][0]                     \n",
      "__________________________________________________________________________________________________\n",
      "relu29 (Activation)             (None, None, None, 6 0           bn28[0][0]                       \n",
      "__________________________________________________________________________________________________\n",
      "conv30 (Conv2D)                 (None, None, None, 6 36864       relu29[0][0]                     \n",
      "__________________________________________________________________________________________________\n",
      "bn31 (BatchNormalization)       (None, None, None, 6 256         conv30[0][0]                     \n",
      "__________________________________________________________________________________________________\n",
      "relu32 (Activation)             (None, None, None, 6 0           bn31[0][0]                       \n",
      "__________________________________________________________________________________________________\n",
      "conv33 (Conv2D)                 (None, None, None, 6 36864       relu32[0][0]                     \n",
      "__________________________________________________________________________________________________\n",
      "bn34 (BatchNormalization)       (None, None, None, 6 256         conv33[0][0]                     \n",
      "__________________________________________________________________________________________________\n",
      "relu35 (Activation)             (None, None, None, 6 0           bn34[0][0]                       \n",
      "__________________________________________________________________________________________________\n",
      "conv36 (Conv2D)                 (None, None, None, 6 36864       relu35[0][0]                     \n",
      "__________________________________________________________________________________________________\n",
      "bn37 (BatchNormalization)       (None, None, None, 6 256         conv36[0][0]                     \n",
      "__________________________________________________________________________________________________\n",
      "relu38 (Activation)             (None, None, None, 6 0           bn37[0][0]                       \n",
      "__________________________________________________________________________________________________\n",
      "conv39 (Conv2D)                 (None, None, None, 6 36864       relu38[0][0]                     \n",
      "__________________________________________________________________________________________________\n",
      "bn40 (BatchNormalization)       (None, None, None, 6 256         conv39[0][0]                     \n",
      "__________________________________________________________________________________________________\n",
      "relu41 (Activation)             (None, None, None, 6 0           bn40[0][0]                       \n",
      "__________________________________________________________________________________________________\n",
      "conv42 (Conv2D)                 (None, None, None, 6 36864       relu41[0][0]                     \n",
      "__________________________________________________________________________________________________\n",
      "bn43 (BatchNormalization)       (None, None, None, 6 256         conv42[0][0]                     \n",
      "__________________________________________________________________________________________________\n",
      "relu44 (Activation)             (None, None, None, 6 0           bn43[0][0]                       \n",
      "__________________________________________________________________________________________________\n",
      "conv45 (Conv2D)                 (None, None, None, 6 36864       relu44[0][0]                     \n",
      "__________________________________________________________________________________________________\n",
      "bn46 (BatchNormalization)       (None, None, None, 6 256         conv45[0][0]                     \n",
      "__________________________________________________________________________________________________\n",
      "relu47 (Activation)             (None, None, None, 6 0           bn46[0][0]                       \n",
      "__________________________________________________________________________________________________\n",
      "conv48 (Conv2D)                 (None, None, None, 1 576         relu47[0][0]                     \n",
      "__________________________________________________________________________________________________\n",
      "subtract49 (Subtract)           (None, None, None, 1 0           input0[0][0]                     \n",
      "                                                                 conv48[0][0]                     \n",
      "==================================================================================================\n",
      "Total params: 558,016\n",
      "Trainable params: 556,096\n",
      "Non-trainable params: 1,920\n",
      "__________________________________________________________________________________________________\n"
     ]
    }
   ],
   "source": [
    "model = DnCNN(depth=17,filters=64,image_channels=1,use_bnorm=True)\n",
    "model.summary()"
   ]
  },
  {
   "cell_type": "code",
   "execution_count": null,
   "metadata": {},
   "outputs": [],
   "source": [
    "model.compile(optimizer=Adam(0.001), loss=sum_squared_error)\n",
    "lr_scheduler = LearningRateScheduler(lr_schedule)"
   ]
  },
  {
   "cell_type": "code",
   "execution_count": null,
   "metadata": {},
   "outputs": [
    {
     "name": "stdout",
     "output_type": "stream",
     "text": [
      "current learning rate is 0.00100000\n",
      "Epoch 1/100\n",
      "^_^-training data finished-^_^\n",
      "1363/2000 [===================>..........] - ETA: 1:53 - loss: 791.7433"
     ]
    }
   ],
   "source": [
    "history = model.fit_generator(train_datagen(batch_size=128),\n",
    "            steps_per_epoch=2000, epochs=100, verbose=1, initial_epoch=0,\n",
    "            callbacks=[lr_scheduler])"
   ]
  },
  {
   "cell_type": "code",
   "execution_count": null,
   "metadata": {},
   "outputs": [],
   "source": [
    "save_path = \"./saved_model/\"\n",
    "model_name = \"fullmodel.h5\"\n",
    "model_architecture = \"model_architecture.json\"\n",
    "model_weights = \"model_weights.h5\"\n",
    "my_model = NetworkEdit_base(model=model)\n",
    "my_model.SaveModel(save_content=\"MODEL\", save_path=save_path, save_filename=model_name)\n",
    "my_model.SaveModel(save_content=\"ARCHITECTURE\", save_path=save_path, save_filename=model_architecture)\n",
    "my_model.SaveModel(save_content=\"WEIGHTS\", save_path=save_path, save_filename=model_weights)"
   ]
  },
  {
   "cell_type": "code",
   "execution_count": null,
   "metadata": {},
   "outputs": [],
   "source": []
  }
 ],
 "metadata": {
  "kernelspec": {
   "display_name": "Python 3",
   "language": "python",
   "name": "python3"
  },
  "language_info": {
   "codemirror_mode": {
    "name": "ipython",
    "version": 3
   },
   "file_extension": ".py",
   "mimetype": "text/x-python",
   "name": "python",
   "nbconvert_exporter": "python",
   "pygments_lexer": "ipython3",
   "version": "3.5.0"
  }
 },
 "nbformat": 4,
 "nbformat_minor": 2
}
